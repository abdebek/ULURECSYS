{
 "cells": [
  {
   "cell_type": "markdown",
   "id": "38ca0225",
   "metadata": {},
   "source": [
    "Extra Information: How to run"
   ]
  },
  {
   "cell_type": "code",
   "execution_count": 1,
   "id": "a431a0ab",
   "metadata": {},
   "outputs": [
    {
     "name": "stdout",
     "output_type": "stream",
     "text": [
      "^C\n"
     ]
    }
   ],
   "source": [
    "# ! pip install uvicorn[standard]\n",
    "# ! pip install fastapi\n",
    "# ! pip install fastapi-login\n",
    "! uvicorn main:app --reload --port=8189"
   ]
  },
  {
   "cell_type": "code",
   "execution_count": null,
   "id": "1dc5877d",
   "metadata": {},
   "outputs": [],
   "source": [
    "# ! netstat -tulpn"
   ]
  },
  {
   "cell_type": "code",
   "execution_count": null,
   "id": "fa2802db",
   "metadata": {},
   "outputs": [],
   "source": [
    "# ! kill -9 2279 # PID"
   ]
  },
  {
   "cell_type": "code",
   "execution_count": null,
   "id": "40bbfdd1",
   "metadata": {},
   "outputs": [],
   "source": []
  }
 ],
 "metadata": {
  "environment": {
   "name": "tf2-gpu.2-3.m73",
   "type": "gcloud",
   "uri": "gcr.io/deeplearning-platform-release/tf2-gpu.2-3:m73"
  },
  "kernelspec": {
   "display_name": "Python 3.9.12 ('base')",
   "language": "python",
   "name": "python3"
  },
  "language_info": {
   "codemirror_mode": {
    "name": "ipython",
    "version": 3
   },
   "file_extension": ".py",
   "mimetype": "text/x-python",
   "name": "python",
   "nbconvert_exporter": "python",
   "pygments_lexer": "ipython3",
   "version": "3.9.12"
  },
  "vscode": {
   "interpreter": {
    "hash": "0b7e3cec0c69f83af9168d96301f70de3f3a1ec2a71933ed4e90f665bc2891df"
   }
  }
 },
 "nbformat": 4,
 "nbformat_minor": 5
}
